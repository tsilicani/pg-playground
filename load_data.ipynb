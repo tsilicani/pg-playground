{
 "cells": [
  {
   "cell_type": "code",
   "execution_count": null,
   "metadata": {},
   "outputs": [],
   "source": [
    "import yfinance as yf\n",
    "import pandas as pd\n",
    "import psycopg2\n",
    "from psycopg2.extensions import register_adapter, AsIs\n",
    "import numpy as np\n",
    "from datetime import datetime"
   ]
  },
  {
   "cell_type": "code",
   "execution_count": 33,
   "metadata": {},
   "outputs": [
    {
     "name": "stdout",
     "output_type": "stream",
     "text": [
      "Connecting to database...\n",
      "Inserting 3851 records for SWDA.MI...\n"
     ]
    }
   ],
   "source": [
    "# Download all available data\n",
    "msci_world = yf.Ticker(\"SWDA.MI\")\n",
    "df = msci_world.history(period=\"max\")\n",
    "\n",
    "# Connect to the database\n",
    "print(\"Connecting to database...\")\n",
    "conn = psycopg2.connect(\n",
    "    dbname=\"postgres\",\n",
    "    user=\"postgres\",\n",
    "    password=\"postgres\",\n",
    "    host=\"localhost\",\n",
    "    port=\"5432\"\n",
    ")\n",
    "\n",
    "# Insert data\n",
    "try:\n",
    "    cur = conn.cursor()\n",
    "    print(f\"Inserting {len(df)} records for SWDA.MI...\")\n",
    "    start_time = datetime.now()\n",
    "    for idx, row in df.iterrows():\n",
    "        close = float(row['Close'])\n",
    "        cur.execute(\n",
    "            \"INSERT INTO etf_data (time, close) VALUES (%s, %s)\",\n",
    "            (idx, close)\n",
    "        )\n",
    "    conn.commit()\n",
    "finally:\n",
    "    cur.close()\n",
    "    conn.close()"
   ]
  }
 ],
 "metadata": {
  "kernelspec": {
   "display_name": ".venv",
   "language": "python",
   "name": "python3"
  },
  "language_info": {
   "codemirror_mode": {
    "name": "ipython",
    "version": 3
   },
   "file_extension": ".py",
   "mimetype": "text/x-python",
   "name": "python",
   "nbconvert_exporter": "python",
   "pygments_lexer": "ipython3",
   "version": "3.12.6"
  }
 },
 "nbformat": 4,
 "nbformat_minor": 4
}
